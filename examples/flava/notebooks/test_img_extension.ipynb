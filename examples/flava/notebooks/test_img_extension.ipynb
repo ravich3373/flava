{
 "cells": [
  {
   "cell_type": "code",
   "execution_count": null,
   "id": "7be5a0ba-dea9-4283-bb19-df81dee616d4",
   "metadata": {},
   "outputs": [],
   "source": [
    "import pandas as pd"
   ]
  },
  {
   "cell_type": "code",
   "execution_count": null,
   "id": "c6eb13e8-809b-431f-9810-15aecd1c6234",
   "metadata": {},
   "outputs": [],
   "source": [
    "df = pd.read_csv(\"/home/ravi/Documents/courses/healthcare/Research/test_data.csv\")"
   ]
  },
  {
   "cell_type": "code",
   "execution_count": null,
   "id": "96be8008-e785-431b-8c27-80e5bf6bfff4",
   "metadata": {},
   "outputs": [],
   "source": [
    "df.head()"
   ]
  },
  {
   "cell_type": "code",
   "execution_count": null,
   "id": "519113a8-d6bc-4336-b6b2-8e3a3a070c82",
   "metadata": {},
   "outputs": [],
   "source": [
    "df.image_name = df.image_name.map(lambda l: l+\".jpg\")"
   ]
  },
  {
   "cell_type": "code",
   "execution_count": null,
   "id": "a12a0dc6-7bda-4d70-a943-e3a28e0481d4",
   "metadata": {},
   "outputs": [],
   "source": [
    "df.to_csv(\"/home/ravi/Documents/courses/healthcare/Research/test_data.csv\", index=False)"
   ]
  },
  {
   "cell_type": "code",
   "execution_count": null,
   "id": "9e5c45fa-8707-47ac-9244-b482f46750dd",
   "metadata": {},
   "outputs": [],
   "source": [
    "df.image_name.values"
   ]
  },
  {
   "cell_type": "code",
   "execution_count": null,
   "id": "e46129c0-b01e-4b45-9939-34644ce02089",
   "metadata": {},
   "outputs": [],
   "source": []
  }
 ],
 "metadata": {
  "kernelspec": {
   "display_name": "Python 3 (ipykernel)",
   "language": "python",
   "name": "python3"
  },
  "language_info": {
   "codemirror_mode": {
    "name": "ipython",
    "version": 3
   },
   "file_extension": ".py",
   "mimetype": "text/x-python",
   "name": "python",
   "nbconvert_exporter": "python",
   "pygments_lexer": "ipython3",
   "version": "3.8.10"
  }
 },
 "nbformat": 4,
 "nbformat_minor": 5
}
