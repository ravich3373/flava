{
 "cells": [
  {
   "cell_type": "code",
   "execution_count": 1,
   "id": "7be5a0ba-dea9-4283-bb19-df81dee616d4",
   "metadata": {},
   "outputs": [],
   "source": [
    "import pandas as pd"
   ]
  },
  {
   "cell_type": "code",
   "execution_count": 10,
   "id": "c6eb13e8-809b-431f-9810-15aecd1c6234",
   "metadata": {},
   "outputs": [],
   "source": [
    "df = pd.read_csv(\"/home/ravi/Documents/courses/healthcare/Research/test_data.csv\")"
   ]
  },
  {
   "cell_type": "code",
   "execution_count": 11,
   "id": "96be8008-e785-431b-8c27-80e5bf6bfff4",
   "metadata": {},
   "outputs": [
    {
     "data": {
      "text/html": [
       "<div>\n",
       "<style scoped>\n",
       "    .dataframe tbody tr th:only-of-type {\n",
       "        vertical-align: middle;\n",
       "    }\n",
       "\n",
       "    .dataframe tbody tr th {\n",
       "        vertical-align: top;\n",
       "    }\n",
       "\n",
       "    .dataframe thead th {\n",
       "        text-align: right;\n",
       "    }\n",
       "</style>\n",
       "<table border=\"1\" class=\"dataframe\">\n",
       "  <thead>\n",
       "    <tr style=\"text-align: right;\">\n",
       "      <th></th>\n",
       "      <th>Unnamed: 0</th>\n",
       "      <th>image_name</th>\n",
       "      <th>patient_id</th>\n",
       "      <th>sex</th>\n",
       "      <th>age_approx</th>\n",
       "      <th>anatom_site_general_challenge</th>\n",
       "      <th>diagnosis</th>\n",
       "      <th>benign_malignant</th>\n",
       "      <th>target</th>\n",
       "      <th>tfrecord</th>\n",
       "      <th>width</th>\n",
       "      <th>height</th>\n",
       "      <th>description</th>\n",
       "    </tr>\n",
       "  </thead>\n",
       "  <tbody>\n",
       "    <tr>\n",
       "      <th>0</th>\n",
       "      <td>2</td>\n",
       "      <td>ISIC_0000002.jpg</td>\n",
       "      <td>-1</td>\n",
       "      <td>female</td>\n",
       "      <td>60.0</td>\n",
       "      <td>upper extremity</td>\n",
       "      <td>MEL</td>\n",
       "      <td>malignant</td>\n",
       "      <td>1</td>\n",
       "      <td>0</td>\n",
       "      <td>1022</td>\n",
       "      <td>767</td>\n",
       "      <td>The patient is a female approximately 60 years...</td>\n",
       "    </tr>\n",
       "    <tr>\n",
       "      <th>1</th>\n",
       "      <td>3</td>\n",
       "      <td>ISIC_0000003.jpg</td>\n",
       "      <td>-1</td>\n",
       "      <td>male</td>\n",
       "      <td>30.0</td>\n",
       "      <td>upper extremity</td>\n",
       "      <td>NV</td>\n",
       "      <td>benign</td>\n",
       "      <td>0</td>\n",
       "      <td>24</td>\n",
       "      <td>1022</td>\n",
       "      <td>767</td>\n",
       "      <td>The patient is a male approximately 30 years o...</td>\n",
       "    </tr>\n",
       "    <tr>\n",
       "      <th>2</th>\n",
       "      <td>8</td>\n",
       "      <td>ISIC_0000009.jpg</td>\n",
       "      <td>-1</td>\n",
       "      <td>female</td>\n",
       "      <td>30.0</td>\n",
       "      <td>anterior torso</td>\n",
       "      <td>NV</td>\n",
       "      <td>benign</td>\n",
       "      <td>0</td>\n",
       "      <td>8</td>\n",
       "      <td>1022</td>\n",
       "      <td>767</td>\n",
       "      <td>The patient is a female approximately 30 years...</td>\n",
       "    </tr>\n",
       "    <tr>\n",
       "      <th>3</th>\n",
       "      <td>12</td>\n",
       "      <td>ISIC_0000013.jpg</td>\n",
       "      <td>-1</td>\n",
       "      <td>female</td>\n",
       "      <td>30.0</td>\n",
       "      <td>posterior torso</td>\n",
       "      <td>MEL</td>\n",
       "      <td>malignant</td>\n",
       "      <td>1</td>\n",
       "      <td>20</td>\n",
       "      <td>1022</td>\n",
       "      <td>767</td>\n",
       "      <td>The patient is a female approximately 30 years...</td>\n",
       "    </tr>\n",
       "    <tr>\n",
       "      <th>4</th>\n",
       "      <td>14</td>\n",
       "      <td>ISIC_0000015.jpg</td>\n",
       "      <td>-1</td>\n",
       "      <td>male</td>\n",
       "      <td>35.0</td>\n",
       "      <td>posterior torso</td>\n",
       "      <td>NV</td>\n",
       "      <td>benign</td>\n",
       "      <td>0</td>\n",
       "      <td>20</td>\n",
       "      <td>1022</td>\n",
       "      <td>767</td>\n",
       "      <td>The patient is a male approximately 35 years o...</td>\n",
       "    </tr>\n",
       "  </tbody>\n",
       "</table>\n",
       "</div>"
      ],
      "text/plain": [
       "   Unnamed: 0        image_name  patient_id     sex  age_approx  \\\n",
       "0           2  ISIC_0000002.jpg          -1  female        60.0   \n",
       "1           3  ISIC_0000003.jpg          -1    male        30.0   \n",
       "2           8  ISIC_0000009.jpg          -1  female        30.0   \n",
       "3          12  ISIC_0000013.jpg          -1  female        30.0   \n",
       "4          14  ISIC_0000015.jpg          -1    male        35.0   \n",
       "\n",
       "  anatom_site_general_challenge diagnosis benign_malignant  target  tfrecord  \\\n",
       "0               upper extremity       MEL        malignant       1         0   \n",
       "1               upper extremity        NV           benign       0        24   \n",
       "2                anterior torso        NV           benign       0         8   \n",
       "3               posterior torso       MEL        malignant       1        20   \n",
       "4               posterior torso        NV           benign       0        20   \n",
       "\n",
       "   width  height                                        description  \n",
       "0   1022     767  The patient is a female approximately 60 years...  \n",
       "1   1022     767  The patient is a male approximately 30 years o...  \n",
       "2   1022     767  The patient is a female approximately 30 years...  \n",
       "3   1022     767  The patient is a female approximately 30 years...  \n",
       "4   1022     767  The patient is a male approximately 35 years o...  "
      ]
     },
     "execution_count": 11,
     "metadata": {},
     "output_type": "execute_result"
    }
   ],
   "source": [
    "df.head()"
   ]
  },
  {
   "cell_type": "code",
   "execution_count": 7,
   "id": "519113a8-d6bc-4336-b6b2-8e3a3a070c82",
   "metadata": {},
   "outputs": [],
   "source": [
    "df.image_name = df.image_name.map(lambda l: l+\".jpg\")"
   ]
  },
  {
   "cell_type": "code",
   "execution_count": 9,
   "id": "a12a0dc6-7bda-4d70-a943-e3a28e0481d4",
   "metadata": {},
   "outputs": [],
   "source": [
    "df.to_csv(\"/home/ravi/Documents/courses/healthcare/Research/test_data.csv\", index=False)"
   ]
  },
  {
   "cell_type": "code",
   "execution_count": 14,
   "id": "9e5c45fa-8707-47ac-9244-b482f46750dd",
   "metadata": {},
   "outputs": [
    {
     "data": {
      "text/plain": [
       "array(['ISIC_0000002.jpg', 'ISIC_0000003.jpg', 'ISIC_0000009.jpg', ...,\n",
       "       'ISIC_0073241.jpg', 'ISIC_0073246.jpg', 'ISIC_0073251.jpg'],\n",
       "      dtype=object)"
      ]
     },
     "execution_count": 14,
     "metadata": {},
     "output_type": "execute_result"
    }
   ],
   "source": [
    "df.image_name.values"
   ]
  },
  {
   "cell_type": "code",
   "execution_count": null,
   "id": "e46129c0-b01e-4b45-9939-34644ce02089",
   "metadata": {},
   "outputs": [],
   "source": []
  }
 ],
 "metadata": {
  "kernelspec": {
   "display_name": "Python 3 (ipykernel)",
   "language": "python",
   "name": "python3"
  },
  "language_info": {
   "codemirror_mode": {
    "name": "ipython",
    "version": 3
   },
   "file_extension": ".py",
   "mimetype": "text/x-python",
   "name": "python",
   "nbconvert_exporter": "python",
   "pygments_lexer": "ipython3",
   "version": "3.8.10"
  }
 },
 "nbformat": 4,
 "nbformat_minor": 5
}
