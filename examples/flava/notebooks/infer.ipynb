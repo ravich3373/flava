{
 "cells": [
  {
   "cell_type": "code",
   "execution_count": null,
   "id": "c06181fa-4798-44f5-aeda-9567ef366d3b",
   "metadata": {},
   "outputs": [],
   "source": [
    "%reload_ext autoreload\n",
    "%autoreload 2"
   ]
  },
  {
   "cell_type": "code",
   "execution_count": null,
   "id": "f78056dd-0830-4e47-a98e-d658df91a237",
   "metadata": {},
   "outputs": [],
   "source": [
    "import torch\n",
    "from torchmultimodal.models.flava.model import flava_model_for_classification, flava_model_for_pretraining"
   ]
  },
  {
   "cell_type": "code",
   "execution_count": null,
   "id": "53244adc-c112-4e57-b5d2-909bdb65aaad",
   "metadata": {},
   "outputs": [],
   "source": [
    "from torchvision.transforms import ToPILImage\n",
    "from transformers import BertTokenizer\n",
    "\n",
    "tokernizer = BertTokenizer.from_pretrained(\"bert-base-uncased\")"
   ]
  },
  {
   "cell_type": "code",
   "execution_count": null,
   "id": "c5d3a77f-24f5-475b-a761-5a6f34561fb0",
   "metadata": {},
   "outputs": [],
   "source": [
    "import os\n",
    "import sys\n",
    "import matplotlib.pyplot as plt"
   ]
  },
  {
   "cell_type": "code",
   "execution_count": null,
   "id": "e3ae13a1-f2b4-450e-8d30-1148f2d65845",
   "metadata": {},
   "outputs": [],
   "source": [
    "sys.path.append(\"../..\")"
   ]
  },
  {
   "cell_type": "code",
   "execution_count": null,
   "id": "543a9b3b-9733-4a35-afc3-764a2aee9f95",
   "metadata": {},
   "outputs": [],
   "source": [
    "a = torch.load(\"flava-epoch=00-step=21000.ckpt\", map_location=torch.device('cpu'))"
   ]
  },
  {
   "cell_type": "code",
   "execution_count": null,
   "id": "caf33a53-97b6-4096-8755-015b2120d218",
   "metadata": {},
   "outputs": [],
   "source": [
    "from flava.model import FLAVAPreTrainingLightningModule\n",
    "from flava.data.datamodules import ISICDataset\n",
    "from flava.data.transforms import default_image_pretraining_transforms"
   ]
  },
  {
   "cell_type": "code",
   "execution_count": null,
   "id": "cf8dfb23-d139-4618-a25e-0608477d4a10",
   "metadata": {},
   "outputs": [],
   "source": [
    "m = FLAVAPreTrainingLightningModule()"
   ]
  },
  {
   "cell_type": "code",
   "execution_count": null,
   "id": "9e86b127-b3f4-4570-8662-1e2dce9e962e",
   "metadata": {},
   "outputs": [],
   "source": [
    "m.load_state_dict(a['state_dict'])"
   ]
  },
  {
   "cell_type": "code",
   "execution_count": null,
   "id": "19de2d55-38b2-464f-8800-2e1bd781fb82",
   "metadata": {},
   "outputs": [],
   "source": [
    "ds = ISICDataset(\"/home/ravi/Documents/courses/healthcare/Research/test_data.csv\",\n",
    "                 \"/home/ravi/Documents/courses/healthcare/Research/archive/train\",\n",
    "                 \"image\",\n",
    "                  True)\n",
    "tfms = default_image_pretraining_transforms()[1]\n",
    "ds.set_transform(tfms)\n",
    "dl = torch.utils.data.DataLoader(\n",
    "            ds,\n",
    "            batch_size=1,\n",
    "            num_workers=1,\n",
    "            sampler=None,\n",
    "            shuffle=False,\n",
    "            # collate_fn=_build_collator(),\n",
    "            # uneven batches can cause distributed issues,\n",
    "            # drop last batch to prevent those.\n",
    "            drop_last=False,\n",
    "        )\n",
    "to_pil = ToPILImage()"
   ]
  },
  {
   "cell_type": "code",
   "execution_count": null,
   "id": "0db5e17c-8405-48e4-abfd-78dcfb24a7d5",
   "metadata": {},
   "outputs": [],
   "source": [
    "im_ = ds[0]['image']"
   ]
  },
  {
   "cell_type": "code",
   "execution_count": null,
   "id": "d2f65642-6db7-4971-a2b2-27b2cc9f59e3",
   "metadata": {},
   "outputs": [],
   "source": [
    "for data in dl:\n",
    "    r = m._step(data, 1)\n",
    "    break"
   ]
  },
  {
   "cell_type": "code",
   "execution_count": null,
   "id": "753380e1-e49b-4584-ae88-4c8923ce0612",
   "metadata": {},
   "outputs": [],
   "source": [
    "m.model.model.image_encoder(data['image']).last_hidden_state[:, 0].squeeze()"
   ]
  },
  {
   "cell_type": "code",
   "execution_count": null,
   "id": "635f2fc2-dc6b-4479-a738-428a57626ce4",
   "metadata": {},
   "outputs": [],
   "source": [
    "data.keys()"
   ]
  },
  {
   "cell_type": "code",
   "execution_count": null,
   "id": "906ee148-969f-40b7-b869-491f4478440f",
   "metadata": {},
   "outputs": [],
   "source": [
    "data['label'], data['img_pth']"
   ]
  },
  {
   "cell_type": "code",
   "execution_count": null,
   "id": "f1962177-0cbf-4ae8-90a5-24f36f3d9e60",
   "metadata": {},
   "outputs": [],
   "source": [
    "plt.imshow(to_pil(im_).convert('L'), cmap=\"gray\")"
   ]
  },
  {
   "cell_type": "code",
   "execution_count": null,
   "id": "48be4b45-4373-4120-8e0e-1f43b368fee5",
   "metadata": {},
   "outputs": [],
   "source": [
    "plt.imshow(plt.imread(ds[0]['img_pth']))"
   ]
  },
  {
   "cell_type": "code",
   "execution_count": null,
   "id": "a6d2af6d-ab60-41b0-a673-1e32b65c2c80",
   "metadata": {},
   "outputs": [],
   "source": []
  }
 ],
 "metadata": {
  "kernelspec": {
   "display_name": "Python 3 (ipykernel)",
   "language": "python",
   "name": "python3"
  },
  "language_info": {
   "codemirror_mode": {
    "name": "ipython",
    "version": 3
   },
   "file_extension": ".py",
   "mimetype": "text/x-python",
   "name": "python",
   "nbconvert_exporter": "python",
   "pygments_lexer": "ipython3",
   "version": "3.8.10"
  }
 },
 "nbformat": 4,
 "nbformat_minor": 5
}
